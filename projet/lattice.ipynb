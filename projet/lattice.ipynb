{
 "cells": [
  {
   "cell_type": "markdown",
   "id": "1bcf3a7b",
   "metadata": {},
   "source": [
    "# Projet : Physique des matériaux\n",
    "## Louis Noirot\n",
    "###### LMAPR1492"
   ]
  },
  {
   "cell_type": "code",
   "execution_count": 1,
   "id": "1077008f",
   "metadata": {},
   "outputs": [],
   "source": [
    "import numpy as np\n",
    "import itertools\n",
    "from mp_api.client import MPRester\n",
    "\n",
    "from pymatgen.core.operations import SymmOp\n",
    "from pymatgen.symmetry.analyzer import SpacegroupAnalyzer\n",
    "from pymatgen.electronic_structure.plotter import BSPlotter\n",
    "from pymatgen.phonon.plotter import PhononBSPlotter\n",
    "from pymatgen.analysis.structure_matcher import StructureMatcher\n",
    "from pymatgen.io.cif import CifWriter\n",
    "from pymatgen.electronic_structure.core import Spin\n",
    "from pymatgen.analysis.diffraction.xrd import XRDCalculator\n",
    "from pymatgen.symmetry.bandstructure import HighSymmKpath\n",
    "\n",
    "from plotly.subplots import make_subplots\n",
    "import plotly.graph_objects as go\n",
    "\n",
    "import matplotlib.pyplot as plt\n",
    "import matplotlib.colors as mcolors\n",
    "from matplotlib.patches import Rectangle\n",
    "\n",
    "from jupyter_jsmol.pymatgen import quick_view\n",
    "from jupyter_jsmol import JsmolView\n",
    "from ipywidgets import Layout, widgets, interact\n",
    "from IPython.display import display"
   ]
  },
  {
   "cell_type": "code",
   "execution_count": 2,
   "id": "584ffd73",
   "metadata": {},
   "outputs": [],
   "source": [
    "mp_key = \"g2nCFD5rMkPRt9qdpOGhbfHJf2mgbv5x\"\n",
    "mp_id = \"mp-14116\""
   ]
  },
  {
   "cell_type": "code",
   "execution_count": 3,
   "id": "42971cb1",
   "metadata": {},
   "outputs": [],
   "source": [
    "hbarre = 6.62607015e-34/(2*np.pi)\n",
    "eV = 1.6022e-19 # pour passer de J à eV\n",
    "A = 1e-10\n",
    "toHz = 1e12 # pour passer de THz à Hz"
   ]
  },
  {
   "cell_type": "code",
   "execution_count": 4,
   "id": "e7fe3b12",
   "metadata": {},
   "outputs": [
    {
     "data": {
      "application/vnd.jupyter.widget-view+json": {
       "model_id": "2e78ab7cdcc64fa29cff76c0076abc89",
       "version_major": 2,
       "version_minor": 0
      },
      "text/plain": [
       "Retrieving MaterialsDoc documents:   0%|          | 0/1 [00:00<?, ?it/s]"
      ]
     },
     "metadata": {},
     "output_type": "display_data"
    },
    {
     "data": {
      "application/vnd.jupyter.widget-view+json": {
       "model_id": "75aef79dc74641c7ba38e4ab89d55b3d",
       "version_major": 2,
       "version_minor": 0
      },
      "text/plain": [
       "Retrieving ElectronicStructureDoc documents:   0%|          | 0/1 [00:00<?, ?it/s]"
      ]
     },
     "metadata": {},
     "output_type": "display_data"
    },
    {
     "data": {
      "application/vnd.jupyter.widget-view+json": {
       "model_id": "614b4c87fd1f4781b69a1bbafce90d48",
       "version_major": 2,
       "version_minor": 0
      },
      "text/plain": [
       "Retrieving ElectronicStructureDoc documents:   0%|          | 0/1 [00:00<?, ?it/s]"
      ]
     },
     "metadata": {},
     "output_type": "display_data"
    },
    {
     "data": {
      "application/vnd.jupyter.widget-view+json": {
       "model_id": "d2115b2d0d8742a68080ff84fcefd889",
       "version_major": 2,
       "version_minor": 0
      },
      "text/plain": [
       "Retrieving PhononBSDOSDoc documents:   0%|          | 0/1 [00:00<?, ?it/s]"
      ]
     },
     "metadata": {},
     "output_type": "display_data"
    },
    {
     "data": {
      "application/vnd.jupyter.widget-view+json": {
       "model_id": "875d0c870a4d413b854af0a22e3ad6e4",
       "version_major": 2,
       "version_minor": 0
      },
      "text/plain": [
       "Retrieving PhononBSDOSDoc documents:   0%|          | 0/1 [00:00<?, ?it/s]"
      ]
     },
     "metadata": {},
     "output_type": "display_data"
    },
    {
     "data": {
      "application/vnd.jupyter.widget-view+json": {
       "model_id": "c5d0b68d04784084879d3a29e3189f23",
       "version_major": 2,
       "version_minor": 0
      },
      "text/plain": [
       "Retrieving MaterialsDoc documents:   0%|          | 0/1 [00:00<?, ?it/s]"
      ]
     },
     "metadata": {},
     "output_type": "display_data"
    },
    {
     "data": {
      "application/vnd.jupyter.widget-view+json": {
       "model_id": "8a6e3062676a41398c20a0bebe9144da",
       "version_major": 2,
       "version_minor": 0
      },
      "text/plain": [
       "Retrieving ElectronicStructureDoc documents:   0%|          | 0/1 [00:00<?, ?it/s]"
      ]
     },
     "metadata": {},
     "output_type": "display_data"
    }
   ],
   "source": [
    "with MPRester(mp_key) as m:\n",
    "    prim_struc = m.get_structure_by_material_id(mp_id)\n",
    "    el_bs = m.get_bandstructure_by_material_id(mp_id)\n",
    "    el_dos = m.get_dos_by_material_id(mp_id)\n",
    "    ph_bs = m.get_phonon_bandstructure_by_material_id(mp_id)\n",
    "    ph_dos = m.get_phonon_dos_by_material_id(mp_id)\n",
    "    structure = m.get_structure_by_material_id(mp_id)\n",
    "    band = m.get_bandstructure_by_material_id(mp_id)\n",
    "conv_struc = SpacegroupAnalyzer(prim_struc).get_conventional_standard_structure()\n",
    "symmops = SpacegroupAnalyzer(conv_struc).get_space_group_operations()"
   ]
  },
  {
   "cell_type": "code",
   "execution_count": 5,
   "id": "eb2ef9cd",
   "metadata": {},
   "outputs": [],
   "source": [
    "# Exporter en CIF avec symétries\n",
    "writer = CifWriter(conv_struc, symprec=0.01)\n",
    "writer.write_file(\"data/CuRhO2_fixed.cif\")"
   ]
  },
  {
   "cell_type": "markdown",
   "id": "000dc4cd",
   "metadata": {},
   "source": [
    "# Tâche 4 :  \n",
    "#### Détermination des vecteurs de bases, des réseaux direct et réciproque, du type type de maille, du système cristallin, ainsi que le groupe ponctuel du matérieau."
   ]
  },
  {
   "cell_type": "code",
   "execution_count": 6,
   "id": "ba22be8d",
   "metadata": {},
   "outputs": [
    {
     "name": "stdout",
     "output_type": "stream",
     "text": [
      "* Vecteurs de base du réseau direct:\n",
      "1.542955 -2.672476 0.000000\n",
      "1.542955 2.672476 0.000000\n",
      "0.000000 0.000000 17.065340\n",
      "\n",
      "* Vecteurs de base du réseau réciproque:\n",
      "2.036089 -1.175537 0.000000\n",
      "2.036089 1.175537 0.000000\n",
      "0.000000 0.000000 0.368184\n",
      "\n",
      "* Type de maille : rhombohedral\n",
      "* Système cristallin : trigonal\n",
      "* Groupe ponctuel : -3m\n"
     ]
    }
   ],
   "source": [
    "# Calcul des vecteurs de base du réseau direct et réciproque\n",
    "direct_lattice = conv_struc.lattice\n",
    "reciprocal_lattice = direct_lattice.reciprocal_lattice\n",
    "\n",
    "# Analyse de la symétrie\n",
    "sga = SpacegroupAnalyzer(conv_struc)\n",
    "crystal_system = sga.get_crystal_system()\n",
    "lattice_type = sga.get_lattice_type()\n",
    "point_group = sga.get_point_group_symbol()\n",
    "\n",
    "# Affichage des résultats\n",
    "print(\"* Vecteurs de base du réseau direct:\")\n",
    "print(direct_lattice)\n",
    "\n",
    "print(\"\\n* Vecteurs de base du réseau réciproque:\")\n",
    "print(reciprocal_lattice)\n",
    "\n",
    "print(\"\\n* Type de maille :\", lattice_type)\n",
    "print(\"* Système cristallin :\", crystal_system)\n",
    "print(\"* Groupe ponctuel :\", point_group)"
   ]
  },
  {
   "cell_type": "code",
   "execution_count": null,
   "id": "d7ef30be",
   "metadata": {},
   "outputs": [],
   "source": []
  }
 ],
 "metadata": {
  "kernelspec": {
   "display_name": "Python 3 (ipykernel)",
   "language": "python",
   "name": "python3"
  },
  "language_info": {
   "codemirror_mode": {
    "name": "ipython",
    "version": 3
   },
   "file_extension": ".py",
   "mimetype": "text/x-python",
   "name": "python",
   "nbconvert_exporter": "python",
   "pygments_lexer": "ipython3",
   "version": "3.9.13"
  }
 },
 "nbformat": 4,
 "nbformat_minor": 5
}
