{
 "cells": [
  {
   "cell_type": "markdown",
   "id": "ce5102c2",
   "metadata": {},
   "source": [
    "# Symétries\n",
    "### Louis Noirot, mars 2025\n",
    "###### LMAPR1492"
   ]
  },
  {
   "cell_type": "code",
   "execution_count": 112,
   "id": "3abcaa7a",
   "metadata": {},
   "outputs": [],
   "source": [
    "import numpy as np\n",
    "from mp_api.client import MPRester\n",
    "from pymatgen.core.operations import SymmOp\n",
    "from pymatgen.symmetry.analyzer import SpacegroupAnalyzer\n",
    "from pymatgen.electronic_structure.plotter import BSPlotter\n",
    "from pymatgen.phonon.plotter import PhononBSPlotter\n",
    "from jupyter_jsmol.pymatgen import quick_view\n",
    "#from lmapr1492 import plot_brillouin_zone, get_plot_bs, get_plot_dos, get_plot_bs_and_dos, get_branch_wavevectors\n",
    "from plotly.subplots import make_subplots\n",
    "import plotly.graph_objects as go"
   ]
  },
  {
   "cell_type": "code",
   "execution_count": 113,
   "id": "ebaf61bd",
   "metadata": {},
   "outputs": [],
   "source": [
    "mp_key = \"g2nCFD5rMkPRt9qdpOGhbfHJf2mgbv5x\"\n",
    "mp_id = \"mp-14116\""
   ]
  },
  {
   "cell_type": "code",
   "execution_count": 114,
   "id": "166478ef",
   "metadata": {},
   "outputs": [
    {
     "data": {
      "application/vnd.jupyter.widget-view+json": {
       "model_id": "881c012f8a564397b95caa7b25239b2b",
       "version_major": 2,
       "version_minor": 0
      },
      "text/plain": [
       "Retrieving MaterialsDoc documents:   0%|          | 0/1 [00:00<?, ?it/s]"
      ]
     },
     "metadata": {},
     "output_type": "display_data"
    },
    {
     "data": {
      "application/vnd.jupyter.widget-view+json": {
       "model_id": "34d19fd1229548faa823651a24ef00a5",
       "version_major": 2,
       "version_minor": 0
      },
      "text/plain": [
       "Retrieving ElectronicStructureDoc documents:   0%|          | 0/1 [00:00<?, ?it/s]"
      ]
     },
     "metadata": {},
     "output_type": "display_data"
    },
    {
     "data": {
      "application/vnd.jupyter.widget-view+json": {
       "model_id": "91715ec1219a4737899c3ebd77a99911",
       "version_major": 2,
       "version_minor": 0
      },
      "text/plain": [
       "Retrieving ElectronicStructureDoc documents:   0%|          | 0/1 [00:00<?, ?it/s]"
      ]
     },
     "metadata": {},
     "output_type": "display_data"
    },
    {
     "data": {
      "application/vnd.jupyter.widget-view+json": {
       "model_id": "d83be49c008d4cc69acf2669f9b9cac4",
       "version_major": 2,
       "version_minor": 0
      },
      "text/plain": [
       "Retrieving PhononBSDOSDoc documents:   0%|          | 0/1 [00:00<?, ?it/s]"
      ]
     },
     "metadata": {},
     "output_type": "display_data"
    },
    {
     "data": {
      "application/vnd.jupyter.widget-view+json": {
       "model_id": "3adbc8a463ab43dd881d25c4805fce4e",
       "version_major": 2,
       "version_minor": 0
      },
      "text/plain": [
       "Retrieving PhononBSDOSDoc documents:   0%|          | 0/1 [00:00<?, ?it/s]"
      ]
     },
     "metadata": {},
     "output_type": "display_data"
    }
   ],
   "source": [
    "with MPRester(mp_key) as m:\n",
    "    prim_struc = m.get_structure_by_material_id(mp_id)\n",
    "    el_bs = m.get_bandstructure_by_material_id(mp_id)\n",
    "    el_dos = m.get_dos_by_material_id(mp_id)\n",
    "    ph_bs = m.get_phonon_bandstructure_by_material_id(mp_id)\n",
    "    ph_dos = m.get_phonon_dos_by_material_id(mp_id)\n",
    "conv_struc = SpacegroupAnalyzer(prim_struc).get_conventional_standard_structure()\n",
    "symmops = SpacegroupAnalyzer(conv_struc).get_space_group_operations()"
   ]
  },
  {
   "cell_type": "code",
   "execution_count": 115,
   "id": "044dc915",
   "metadata": {},
   "outputs": [
    {
     "data": {
      "application/vnd.jupyter.widget-view+json": {
       "model_id": "808176d3347444b3b033d8c91b532220",
       "version_major": 2,
       "version_minor": 0
      },
      "text/plain": [
       "JsmolView(layout=Layout(align_self='stretch', height='400px'))"
      ]
     },
     "metadata": {},
     "output_type": "display_data"
    }
   ],
   "source": [
    "# Visualisation\n",
    "view = quick_view(structure)\n",
    "display(view)"
   ]
  },
  {
   "cell_type": "code",
   "execution_count": 116,
   "id": "6b1055df",
   "metadata": {},
   "outputs": [
    {
     "data": {
      "application/vnd.jupyter.widget-view+json": {
       "model_id": "c8faee2df4404b97973165d91709ddde",
       "version_major": 2,
       "version_minor": 0
      },
      "text/plain": [
       "JsmolView(layout=Layout(align_self='stretch', height='400px'))"
      ]
     },
     "metadata": {},
     "output_type": "display_data"
    }
   ],
   "source": [
    "view = quick_view(prim_struc, \"packed\", conventional = True)\n",
    "display(view)"
   ]
  },
  {
   "cell_type": "code",
   "execution_count": 117,
   "id": "b43243cc",
   "metadata": {},
   "outputs": [
    {
     "name": "stdout",
     "output_type": "stream",
     "text": [
      "Position originale et transformée des atomes:\n",
      "Cu: [0.0, 0.0, 0.0] -> [0. 0. 0.]\n",
      "Rh: [0.5, 0.5, 0.5] -> [-0.5 -0.5 -0.5]\n",
      "O: [0.25, 0.25, 0.75] -> [-0.75 -0.25 -0.25]\n"
     ]
    }
   ],
   "source": [
    "# Symétries de la molécule\n",
    "sym = SpacegroupAnalyzer(structure).get_symmetry_operations()\n",
    "\n",
    "# Symétries choisies pour les atomes\n",
    "# Plan miroir (z,y,x)\n",
    "S1 = sym[7]\n",
    "# Axe 4-barre | centre d'inversion en (0,0,0)  (-x-y-z,x,y)\n",
    "S2 = sym[3]\n",
    "# Axe de rotation C2 (y,x,-x-y-z)\n",
    "S3 = sym[6]\n",
    "\n",
    "# Atomes choisis (positions fractionnaires dans CuRhO2)\n",
    "Cu = [0.0, 0.0, 0.0]\n",
    "Rh = [0.5, 0.5, 0.5]\n",
    "O = [0.25, 0.25, 0.75]\n",
    "\n",
    "# Application des symétries\n",
    "Cu_sym = S1.operate(Cu)\n",
    "Rh_sym = S2.operate(Rh)\n",
    "O_sym = S3.operate(O)\n",
    "\n",
    "# Application des oppérations de symétrie\n",
    "transformed_positions = [S1.operate(atom_positions[0]),\n",
    "                         S2.operate(atom_positions[1]),\n",
    "                         S3.operate(atom_positions[2])]\n",
    "\n",
    "# Affichage des résultats\n",
    "print(\"Position originale et transformée des atomes:\")\n",
    "print(f\"Cu: {Cu} -> {Cu_sym}\")\n",
    "print(f\"Rh: {Rh} -> {Rh_sym}\")\n",
    "print(f\"O: {O} -> {O_sym}\")"
   ]
  },
  {
   "cell_type": "markdown",
   "id": "e80ba8d8",
   "metadata": {},
   "source": [
    "### Première symétrie sur l'atome de Cu"
   ]
  },
  {
   "cell_type": "code",
   "execution_count": 118,
   "id": "23434a65",
   "metadata": {},
   "outputs": [
    {
     "name": "stdout",
     "output_type": "stream",
     "text": [
      "Opération de symétrie 1: \n",
      "\n",
      "L'atome de départ est Cu et a comme coordonnées: [0.0, 0.0, 0.0]\n",
      "\n",
      "On lui applique une symétrie de plan miroir (z,y,x) :\n",
      "\n",
      "[[ 0.  0. -1.]\n",
      " [-1.  0.  0.]\n",
      " [ 0. -1.  0.]] * [0.0, 0.0, 0.0] + [0. 0. 0.]\n",
      "L'atome d'arrivée a comme coordonnées : [0. 0. 0.]\n",
      "\n"
     ]
    },
    {
     "data": {
      "application/vnd.jupyter.widget-view+json": {
       "model_id": "6d23ee9b5aa94d998512d854ee4a3202",
       "version_major": 2,
       "version_minor": 0
      },
      "text/plain": [
       "JsmolView(layout=Layout(align_self='stretch', height='400px'))"
      ]
     },
     "metadata": {},
     "output_type": "display_data"
    }
   ],
   "source": [
    "print(\"Opération de symétrie 1: \\n\")\n",
    "print(\"L'atome de départ est Cu et a comme coordonnées: {}\\n\".format(Cu))\n",
    "print(\"On lui applique une symétrie de plan miroir (z,y,x) :\\n\")\n",
    "print(S1.rotation_matrix, \"*\", Cu, '+', S1.translation_vector)\n",
    "print(\"L'atome d'arrivée a comme coordonnées : {}\\n\".format(Cu_sym))\n",
    "\n",
    "# Visualisation avec Jupyter-JSmol\n",
    "v1 = quick_view(structure)\n",
    "display(v1)\n",
    "v1.script(\"draw symop 8 {atomno=1}\")"
   ]
  },
  {
   "cell_type": "markdown",
   "id": "5d17ace9",
   "metadata": {},
   "source": [
    "### Deuxième symétrie sur l'atome de Rh"
   ]
  },
  {
   "cell_type": "code",
   "execution_count": 119,
   "id": "7661deeb",
   "metadata": {},
   "outputs": [
    {
     "name": "stdout",
     "output_type": "stream",
     "text": [
      "Opération de symétrie 2: \n",
      "\n",
      "L'atome de départ est Rh et a comme coordonnées: [0.5, 0.5, 0.5]\n",
      "\n",
      "On lui applique une roto-inversion (-x-y-z,x,y) :\n",
      "[[-1.  0.  0.]\n",
      " [ 0. -1.  0.]\n",
      " [ 0.  0. -1.]] * [0.5, 0.5, 0.5] + [0. 0. 0.]\n",
      "L'atome d'arrivée a comme coordonnées : [-0.5 -0.5 -0.5]\n",
      "\n"
     ]
    },
    {
     "data": {
      "application/vnd.jupyter.widget-view+json": {
       "model_id": "5ffa324c25084224b8ce1641d751ed19",
       "version_major": 2,
       "version_minor": 0
      },
      "text/plain": [
       "JsmolView(layout=Layout(align_self='stretch', height='400px'))"
      ]
     },
     "metadata": {},
     "output_type": "display_data"
    }
   ],
   "source": [
    "print(\"Opération de symétrie 2: \\n\")\n",
    "print(\"L'atome de départ est Rh et a comme coordonnées: {}\\n\".format(Rh))\n",
    "print(\"On lui applique une roto-inversion (-x-y-z,x,y) :\")\n",
    "print(S2.rotation_matrix, \"*\", Rh, '+', S2.translation_vector)\n",
    "print(\"L'atome d'arrivée a comme coordonnées : {}\\n\".format(Rh_sym))\n",
    "\n",
    "# Visualisation avec Jupyter-JSmol\n",
    "v2 = quick_view(structure)\n",
    "display(v2)\n",
    "v2.script(\"draw symop 4 {atomno=7}\")"
   ]
  },
  {
   "cell_type": "markdown",
   "id": "a05b7a77",
   "metadata": {},
   "source": [
    "### Troisième symétrie sur l'atome de Ru"
   ]
  },
  {
   "cell_type": "code",
   "execution_count": 120,
   "id": "5979f378",
   "metadata": {
    "scrolled": true
   },
   "outputs": [
    {
     "name": "stdout",
     "output_type": "stream",
     "text": [
      "Opération de symétrie 3: \n",
      "\n",
      "L'atome de départ est le O et a comme coordonnées: [0.25, 0.25, 0.75]\n",
      "\n",
      "On lui applique une symétrie d'axe 2 (y,x,-x-y-z) : \n",
      "[[ 0.  0. -1.]\n",
      " [-1.  0.  0.]\n",
      " [ 0. -1.  0.]] * [0.25, 0.25, 0.75] + [0. 0. 0.]\n",
      "L'atome d'arrivé a comme coordonnées : [-0.75 -0.25 -0.25]\n",
      "\n"
     ]
    },
    {
     "data": {
      "application/vnd.jupyter.widget-view+json": {
       "model_id": "97937be8081f426db1b0bdaf6a2b132a",
       "version_major": 2,
       "version_minor": 0
      },
      "text/plain": [
       "JsmolView(layout=Layout(align_self='stretch', height='400px'))"
      ]
     },
     "metadata": {},
     "output_type": "display_data"
    }
   ],
   "source": [
    "print(\"Opération de symétrie 3: \\n\")\n",
    "print(\"L'atome de départ est le O et a comme coordonnées: {}\\n\".format(O))\n",
    "print(\"On lui applique une symétrie d'axe 2 (y,x,-x-y-z) : \")\n",
    "print(S3.rotation_matrix, \"*\", O, '+', S3.translation_vector)\n",
    "print(\"L'atome d'arrivé a comme coordonnées : {}\\n\".format(O_sym))\n",
    "v3 = quick_view(structure)\n",
    "display(v3)\n",
    "v3.script(\"draw symop 7 {atomno=3}\")"
   ]
  }
 ],
 "metadata": {
  "kernelspec": {
   "display_name": "Python 3 (ipykernel)",
   "language": "python",
   "name": "python3"
  },
  "language_info": {
   "codemirror_mode": {
    "name": "ipython",
    "version": 3
   },
   "file_extension": ".py",
   "mimetype": "text/x-python",
   "name": "python",
   "nbconvert_exporter": "python",
   "pygments_lexer": "ipython3",
   "version": "3.9.13"
  }
 },
 "nbformat": 4,
 "nbformat_minor": 5
}
