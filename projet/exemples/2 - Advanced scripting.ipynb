{
 "cells": [
  {
   "cell_type": "markdown",
   "metadata": {},
   "source": [
    "# Advanced scripting options for JSmol viewer\n",
    "\n",
    "JSmol has its own powerful script language which can be used with the `script` command. For all the available options please wisit the folloing page: https://chemapps.stolaf.edu/jmol/docs/"
   ]
  },
  {
   "cell_type": "code",
   "execution_count": 55,
   "metadata": {},
   "outputs": [],
   "source": [
    "from jupyter_jsmol import JsmolView\n",
    "from ipywidgets import Layout, widgets, interact\n",
    "from IPython.display import display"
   ]
  },
  {
   "cell_type": "markdown",
   "metadata": {},
   "source": [
    "## Loding data from python object"
   ]
  },
  {
   "cell_type": "code",
   "execution_count": 56,
   "metadata": {},
   "outputs": [
    {
     "data": {
      "application/vnd.jupyter.widget-view+json": {
       "model_id": "425d520c4acb4c939a1d5fd31b1e1abb",
       "version_major": 2,
       "version_minor": 0
      },
      "text/plain": [
       "JsmolView(layout=Layout(align_self='stretch', height='400px'))"
      ]
     },
     "metadata": {},
     "output_type": "display_data"
    }
   ],
   "source": [
    "view1 = JsmolView.from_file('data/c2h410.xyz', inline=True)\n",
    "view1"
   ]
  },
  {
   "cell_type": "code",
   "execution_count": 57,
   "metadata": {},
   "outputs": [],
   "source": [
    "view1.script(\"select all; label on\")"
   ]
  },
  {
   "cell_type": "code",
   "execution_count": 58,
   "metadata": {},
   "outputs": [],
   "source": [
    "view1.script('select carbon; label on; color pink')"
   ]
  },
  {
   "cell_type": "code",
   "execution_count": 59,
   "metadata": {},
   "outputs": [],
   "source": [
    "view1.evaluate(\"_nProcessors\")"
   ]
  },
  {
   "cell_type": "code",
   "execution_count": 60,
   "metadata": {
    "scrolled": false
   },
   "outputs": [],
   "source": [
    "view1.response"
   ]
  },
  {
   "cell_type": "code",
   "execution_count": 61,
   "metadata": {},
   "outputs": [],
   "source": [
    "view1.evaluate(\"\")"
   ]
  },
  {
   "cell_type": "code",
   "execution_count": 62,
   "metadata": {
    "scrolled": false
   },
   "outputs": [],
   "source": [
    "view1.response"
   ]
  },
  {
   "cell_type": "code",
   "execution_count": 63,
   "metadata": {},
   "outputs": [],
   "source": [
    "view1.property('modelinfo')"
   ]
  },
  {
   "cell_type": "code",
   "execution_count": 64,
   "metadata": {
    "scrolled": false
   },
   "outputs": [],
   "source": [
    "view1.response"
   ]
  },
  {
   "cell_type": "code",
   "execution_count": 65,
   "metadata": {},
   "outputs": [],
   "source": [
    "view1.close()"
   ]
  },
  {
   "cell_type": "markdown",
   "metadata": {},
   "source": [
    "# Crating an image"
   ]
  },
  {
   "cell_type": "code",
   "execution_count": 66,
   "metadata": {},
   "outputs": [
    {
     "data": {
      "application/vnd.jupyter.widget-view+json": {
       "model_id": "3ed2518f69024388b602070adee3494a",
       "version_major": 2,
       "version_minor": 0
      },
      "text/plain": [
       "JsmolView(layout=Layout(align_self='stretch', height='400px'))"
      ]
     },
     "metadata": {},
     "output_type": "display_data"
    }
   ],
   "source": [
    "view1 = JsmolView()\n",
    "display(view1)\n",
    "view1.load_file('data/coord.xyz', '{2 2 2}', 'unitcell {4.365 4.625 6.359 90.0 90.0 90.0}', inline=True)"
   ]
  },
  {
   "cell_type": "markdown",
   "metadata": {},
   "source": [
    "Generating a jpg image:"
   ]
  },
  {
   "cell_type": "code",
   "execution_count": 67,
   "metadata": {},
   "outputs": [],
   "source": [
    "view1.script('write IMAGE 1000 1000 JPG 100 \"image.jpg\"')"
   ]
  },
  {
   "cell_type": "markdown",
   "metadata": {},
   "source": [
    "## Basic control of the camera\n",
    "\n",
    "source: https://chemapps.stolaf.edu/jmol/docs/#moveto"
   ]
  },
  {
   "cell_type": "code",
   "execution_count": 68,
   "metadata": {
    "scrolled": false
   },
   "outputs": [
    {
     "data": {
      "application/vnd.jupyter.widget-view+json": {
       "model_id": "d30441baa226449095c0d68867f42636",
       "version_major": 2,
       "version_minor": 0
      },
      "text/plain": [
       "JsmolView(layout=Layout(align_self='stretch', height='400px'))"
      ]
     },
     "metadata": {},
     "output_type": "display_data"
    }
   ],
   "source": [
    "view1 = JsmolView.from_file(\"data/c2h410.xyz\", inline=True)\n",
    "view1"
   ]
  },
  {
   "cell_type": "code",
   "execution_count": 69,
   "metadata": {},
   "outputs": [],
   "source": [
    "# view from top\n",
    "view1.script('moveto 0 1 0 0 -90;')"
   ]
  },
  {
   "cell_type": "code",
   "execution_count": 70,
   "metadata": {},
   "outputs": [],
   "source": [
    "# view from right\n",
    "view1.script('moveto 0 0 1 0 90;')"
   ]
  },
  {
   "cell_type": "code",
   "execution_count": 71,
   "metadata": {},
   "outputs": [],
   "source": [
    "# view from bottom with smooth 2-second transition\n",
    "view1.script('moveto 2 1 0 0 90;')"
   ]
  },
  {
   "cell_type": "code",
   "execution_count": 72,
   "metadata": {},
   "outputs": [],
   "source": [
    "# default orientation with instantaneous transition and a zoom of 200%\n",
    "view1.script('moveto 0 0 0 0 0 200;')"
   ]
  },
  {
   "cell_type": "code",
   "execution_count": 73,
   "metadata": {},
   "outputs": [],
   "source": [
    "view1.close()"
   ]
  },
  {
   "cell_type": "markdown",
   "metadata": {},
   "source": [
    "# Visualising symmetry operators"
   ]
  },
  {
   "cell_type": "code",
   "execution_count": 74,
   "metadata": {
    "scrolled": false
   },
   "outputs": [
    {
     "data": {
      "application/vnd.jupyter.widget-view+json": {
       "model_id": "026ab8d69cb740178c309d3183df8eed",
       "version_major": 2,
       "version_minor": 0
      },
      "text/plain": [
       "JsmolView(layout=Layout(height='600px'))"
      ]
     },
     "metadata": {},
     "output_type": "display_data"
    }
   ],
   "source": [
    "view2 = JsmolView(layout=Layout(height=\"600px\"))\n",
    "display(view2)\n",
    "\n",
    "view2.load_file('data/CaF2.cif', '{1 1 1}', inline=True)"
   ]
  },
  {
   "cell_type": "markdown",
   "metadata": {},
   "source": [
    "JSmol conatins a lot of useful features like visualising the operations belongs to a certain symerty operator:"
   ]
  },
  {
   "cell_type": "code",
   "execution_count": 75,
   "metadata": {},
   "outputs": [],
   "source": [
    "view2.script('draw SYMOP 131')"
   ]
  },
  {
   "cell_type": "markdown",
   "metadata": {},
   "source": [
    "You can send commands to JSmol applet like:"
   ]
  },
  {
   "cell_type": "code",
   "execution_count": 76,
   "metadata": {},
   "outputs": [],
   "source": [
    "view2.script('rotate on')"
   ]
  },
  {
   "cell_type": "code",
   "execution_count": 77,
   "metadata": {},
   "outputs": [],
   "source": [
    "view2.script('rotate off')"
   ]
  },
  {
   "cell_type": "markdown",
   "metadata": {},
   "source": [
    "Or you can also modify the structure/view:"
   ]
  },
  {
   "cell_type": "code",
   "execution_count": 78,
   "metadata": {},
   "outputs": [],
   "source": [
    "view2.script('select atomno=1; color red; select atomno=2; color blue')"
   ]
  },
  {
   "cell_type": "markdown",
   "metadata": {},
   "source": [
    "# Advanced scripting"
   ]
  },
  {
   "cell_type": "code",
   "execution_count": 79,
   "metadata": {},
   "outputs": [
    {
     "data": {
      "application/vnd.jupyter.widget-view+json": {
       "model_id": "5f5861d1d0f2487982503547e127fb46",
       "version_major": 2,
       "version_minor": 0
      },
      "text/plain": [
       "JsmolView(layout=Layout(height='600px'))"
      ]
     },
     "metadata": {},
     "output_type": "display_data"
    }
   ],
   "source": [
    "view3 = JsmolView(layout=Layout(height=\"600px\"))\n",
    "display(view3)\n",
    "\n",
    "view3.load_file('data/surf8.xyz', '{1 2 2}', 'unitcell {20 9.629966 8.340890 90 90 90}', inline=True)"
   ]
  },
  {
   "cell_type": "markdown",
   "metadata": {},
   "source": [
    "Using mulitline string (triple quotes) a custom script can be run:"
   ]
  },
  {
   "cell_type": "code",
   "execution_count": 80,
   "metadata": {},
   "outputs": [],
   "source": [
    "script=\"\"\"\n",
    "nat=76\n",
    "for(ii=0;ii<=3;ii=ii+1)\n",
    " iat=17+ii*nat\n",
    " jat=5+ii*nat\n",
    " select atomno=iat, atomno=jat\n",
    " connect none\n",
    "\n",
    " iat=5+ii*nat\n",
    " jat=19+ii*nat\n",
    " select atomno=iat, atomno=jat\n",
    " connect none\n",
    "\n",
    " iat=19+ii*nat\n",
    " jat=7+ii*nat\n",
    " select atomno=19, atomno=7\n",
    " select atomno=iat, atomno=jat\n",
    " connect none\n",
    "\n",
    " iat=7+ii*nat\n",
    " jat=17+(ii+2)*nat\n",
    " select atomno=iat, atomno=jat\n",
    " connect none\n",
    "\n",
    "end for\n",
    "\n",
    "for(ii=0;ii<=2;ii=ii+2)\n",
    " iat=1+(ii+1)*nat\n",
    " jat=21+ii*nat\n",
    " select atomno=iat, atomno=jat\n",
    " connect none\n",
    "\n",
    " iat=21+ii*nat\n",
    " jat=3+(ii+1)*nat\n",
    " select atomno=iat, atomno=jat\n",
    " connect none\n",
    "\n",
    " iat=3+(ii+1)*nat\n",
    " jat=23+ii*nat\n",
    " select atomno=iat, atomno=jat\n",
    " connect none\n",
    "\n",
    " iat=23+ii*nat\n",
    " jat=1+(ii+3)*nat\n",
    " select atomno=iat, atomno=jat\n",
    " connect none\n",
    "\n",
    "end for\n",
    "\n",
    "for(ii=0;ii<=3;ii=ii+1)\n",
    " for(jj=0;jj<=3;jj=jj+1)\n",
    "  iat=(2*jj+1)+ii*nat\n",
    "  select atomno=iat\n",
    "  polyhedra radius 1.8 translucent color turquoise\n",
    "\n",
    "  iat=16+(2*jj+1)+ii*nat\n",
    "  select atomno=iat\n",
    "  polyhedra radius 1.8 translucent color yellow\n",
    "\n",
    "  iat=8+(2*jj+1)+ii*nat\n",
    "  select atomno=iat\n",
    "  polyhedra radius 1.8 translucent color pink\n",
    "\n",
    "  iat=(2*(jj+1))+ii*nat\n",
    "  select atomno=iat\n",
    "  polyhedra radius 1.8 translucent color green \n",
    "\n",
    "  iat=16+(2*(jj+1))+ii*nat\n",
    "  select atomno=iat\n",
    "  polyhedra radius 1.8 translucent color orange\n",
    "\n",
    " end for\n",
    "end for\n",
    "\"\"\"\n",
    "\n",
    "view3.script(script)"
   ]
  },
  {
   "cell_type": "markdown",
   "metadata": {},
   "source": [
    "## Cleanup"
   ]
  },
  {
   "cell_type": "code",
   "execution_count": 81,
   "metadata": {},
   "outputs": [],
   "source": [
    "view1.close_all()"
   ]
  },
  {
   "cell_type": "code",
   "execution_count": null,
   "metadata": {},
   "outputs": [],
   "source": []
  }
 ],
 "metadata": {
  "kernelspec": {
   "display_name": "base",
   "language": "python",
   "name": "python3"
  },
  "language_info": {
   "codemirror_mode": {
    "name": "ipython",
    "version": 3
   },
   "file_extension": ".py",
   "mimetype": "text/x-python",
   "name": "python",
   "nbconvert_exporter": "python",
   "pygments_lexer": "ipython3",
   "version": "3.12.7"
  }
 },
 "nbformat": 4,
 "nbformat_minor": 4
}
