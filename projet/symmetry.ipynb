{
 "cells": [
  {
   "cell_type": "markdown",
   "id": "1bcf3a7b",
   "metadata": {},
   "source": [
    "# Projet : Physique des matériaux\n",
    "## Louis Noirot\n",
    "###### LMAPR1492"
   ]
  },
  {
   "cell_type": "code",
   "execution_count": 1,
   "id": "1077008f",
   "metadata": {},
   "outputs": [],
   "source": [
    "import numpy as np\n",
    "import itertools\n",
    "from mp_api.client import MPRester\n",
    "\n",
    "from pymatgen.core.operations import SymmOp\n",
    "from pymatgen.symmetry.analyzer import SpacegroupAnalyzer\n",
    "from pymatgen.electronic_structure.plotter import BSPlotter\n",
    "from pymatgen.phonon.plotter import PhononBSPlotter\n",
    "from pymatgen.analysis.structure_matcher import StructureMatcher\n",
    "from pymatgen.io.cif import CifWriter\n",
    "from pymatgen.electronic_structure.core import Spin\n",
    "from pymatgen.analysis.diffraction.xrd import XRDCalculator\n",
    "from pymatgen.symmetry.bandstructure import HighSymmKpath\n",
    "\n",
    "from plotly.subplots import make_subplots\n",
    "import plotly.graph_objects as go\n",
    "\n",
    "import matplotlib.pyplot as plt\n",
    "import matplotlib.colors as mcolors\n",
    "from matplotlib.patches import Rectangle\n",
    "\n",
    "from jupyter_jsmol.pymatgen import quick_view\n",
    "from jupyter_jsmol import JsmolView\n",
    "from ipywidgets import Layout, widgets, interact\n",
    "from IPython.display import display"
   ]
  },
  {
   "cell_type": "code",
   "execution_count": 2,
   "id": "584ffd73",
   "metadata": {},
   "outputs": [],
   "source": [
    "mp_key = \"g2nCFD5rMkPRt9qdpOGhbfHJf2mgbv5x\"\n",
    "mp_id = \"mp-14116\""
   ]
  },
  {
   "cell_type": "code",
   "execution_count": 3,
   "id": "42971cb1",
   "metadata": {},
   "outputs": [],
   "source": [
    "hbarre = 6.62607015e-34/(2*np.pi)\n",
    "eV = 1.6022e-19 # pour passer de J à eV\n",
    "A = 1e-10\n",
    "toHz = 1e12 # pour passer de THz à Hz"
   ]
  },
  {
   "cell_type": "code",
   "execution_count": 4,
   "id": "e7fe3b12",
   "metadata": {},
   "outputs": [
    {
     "data": {
      "application/vnd.jupyter.widget-view+json": {
       "model_id": "24cb2b0524234270ab009729a3965500",
       "version_major": 2,
       "version_minor": 0
      },
      "text/plain": [
       "Retrieving MaterialsDoc documents:   0%|          | 0/1 [00:00<?, ?it/s]"
      ]
     },
     "metadata": {},
     "output_type": "display_data"
    },
    {
     "data": {
      "application/vnd.jupyter.widget-view+json": {
       "model_id": "6ca539d8e31e4393b60838c5eb6983d7",
       "version_major": 2,
       "version_minor": 0
      },
      "text/plain": [
       "Retrieving ElectronicStructureDoc documents:   0%|          | 0/1 [00:00<?, ?it/s]"
      ]
     },
     "metadata": {},
     "output_type": "display_data"
    },
    {
     "data": {
      "application/vnd.jupyter.widget-view+json": {
       "model_id": "0c9ac69b4407471d925bf8dc88621bad",
       "version_major": 2,
       "version_minor": 0
      },
      "text/plain": [
       "Retrieving ElectronicStructureDoc documents:   0%|          | 0/1 [00:00<?, ?it/s]"
      ]
     },
     "metadata": {},
     "output_type": "display_data"
    },
    {
     "data": {
      "application/vnd.jupyter.widget-view+json": {
       "model_id": "8e56f19e449148a1847da9f58301b202",
       "version_major": 2,
       "version_minor": 0
      },
      "text/plain": [
       "Retrieving PhononBSDOSDoc documents:   0%|          | 0/1 [00:00<?, ?it/s]"
      ]
     },
     "metadata": {},
     "output_type": "display_data"
    },
    {
     "data": {
      "application/vnd.jupyter.widget-view+json": {
       "model_id": "b7e8689ac3f74a909c90b16b2007134e",
       "version_major": 2,
       "version_minor": 0
      },
      "text/plain": [
       "Retrieving PhononBSDOSDoc documents:   0%|          | 0/1 [00:00<?, ?it/s]"
      ]
     },
     "metadata": {},
     "output_type": "display_data"
    },
    {
     "data": {
      "application/vnd.jupyter.widget-view+json": {
       "model_id": "73b38f2c61a444f6b1e94f426666cebd",
       "version_major": 2,
       "version_minor": 0
      },
      "text/plain": [
       "Retrieving MaterialsDoc documents:   0%|          | 0/1 [00:00<?, ?it/s]"
      ]
     },
     "metadata": {},
     "output_type": "display_data"
    },
    {
     "data": {
      "application/vnd.jupyter.widget-view+json": {
       "model_id": "0ef7adb31ae74d3291f5aeece6cab036",
       "version_major": 2,
       "version_minor": 0
      },
      "text/plain": [
       "Retrieving ElectronicStructureDoc documents:   0%|          | 0/1 [00:00<?, ?it/s]"
      ]
     },
     "metadata": {},
     "output_type": "display_data"
    }
   ],
   "source": [
    "with MPRester(mp_key) as m:\n",
    "    prim_struc = m.get_structure_by_material_id(mp_id)\n",
    "    el_bs = m.get_bandstructure_by_material_id(mp_id)\n",
    "    el_dos = m.get_dos_by_material_id(mp_id)\n",
    "    ph_bs = m.get_phonon_bandstructure_by_material_id(mp_id)\n",
    "    ph_dos = m.get_phonon_dos_by_material_id(mp_id)\n",
    "    structure = m.get_structure_by_material_id(mp_id)\n",
    "    band = m.get_bandstructure_by_material_id(mp_id)\n",
    "conv_struc = SpacegroupAnalyzer(prim_struc).get_conventional_standard_structure()\n",
    "symmops = SpacegroupAnalyzer(conv_struc).get_space_group_operations()"
   ]
  },
  {
   "cell_type": "code",
   "execution_count": 5,
   "id": "eb2ef9cd",
   "metadata": {},
   "outputs": [],
   "source": [
    "# Exporter en CIF avec symétries\n",
    "writer = CifWriter(conv_struc, symprec=0.01)\n",
    "writer.write_file(\"data/CuRhO2_fixed.cif\")"
   ]
  },
  {
   "cell_type": "markdown",
   "id": "000dc4cd",
   "metadata": {},
   "source": [
    "# Tâche 5 :\n",
    "#### Étude de l’effet de 3 éléments de symétrie différents (pas l’identité) chacun pour 1 atome différent."
   ]
  },
  {
   "cell_type": "markdown",
   "id": "7d030c8d",
   "metadata": {},
   "source": [
    "## Symétries : nombre total, sélection de 3 et determination du type:"
   ]
  },
  {
   "cell_type": "code",
   "execution_count": 6,
   "id": "d7ef30be",
   "metadata": {},
   "outputs": [
    {
     "name": "stdout",
     "output_type": "stream",
     "text": [
      "* Symétries disponibles : 36.\n",
      "\n",
      "* Symétrie 5 : Roto-inversion de 60.0°\n",
      "  Matrice de rotation:\n",
      " [[ 1. -1.  0.]\n",
      " [ 1.  0.  0.]\n",
      " [ 0.  0. -1.]]\n",
      "  Vecteur de translation : [0. 0. 0.]\n",
      "\n",
      "* Symétrie 10 : Rotation pure de 180.0° autour de l'axe [ 0.  0. -1.]\n",
      "  Matrice de rotation:\n",
      " [[-1.  0.  0.]\n",
      " [-1.  1.  0.]\n",
      " [ 0.  0. -1.]]\n",
      "  Vecteur de translation : [0. 0. 0.]\n",
      "\n",
      "* Symétrie 25 : Inversion pure\n",
      "  Matrice de rotation:\n",
      " [[-1.  0.  0.]\n",
      " [ 0. -1.  0.]\n",
      " [ 0.  0. -1.]]\n",
      "  Vecteur de translation : [0.33333333 0.66666667 0.66666667]\n"
     ]
    }
   ],
   "source": [
    "# Détermination du nombre total de symmétries et sélection de trois symétries:\n",
    "\n",
    "# Obtenir les opérations de symétrie\n",
    "symmops = SpacegroupAnalyzer(conv_struc).get_space_group_operations()\n",
    "\n",
    "# Nombre de symétries disponibles\n",
    "print(f\"* Symétries disponibles : {len(symmops)}.\")\n",
    "\n",
    "indices = [5, 10, 25]\n",
    "for idx in indices:\n",
    "    op = symmops[idx]\n",
    "    mat = op.rotation_matrix\n",
    "    det = np.linalg.det(op.rotation_matrix)     # Car si det > 0 -> rotation ou identité\n",
    "                                                #  et si det < 0 -> réflexion ou roto-inversion\n",
    "        \n",
    "    trace = np.trace(op.rotation_matrix)        # Car si trace = -3 -> inversion pure\n",
    "                                                #  et si trace =  3 -> identité\n",
    "        \n",
    "    # Détermination du type de symétrie\n",
    "    if np.allclose(mat, np.eye(3)):\n",
    "        sym_type = \"Identité\"\n",
    "        \n",
    "    elif np.allclose(mat, -np.eye(3)):\n",
    "        sym_type = \"Inversion pure\"\n",
    "    \n",
    "    elif det > 0:\n",
    "        angle = np.arccos((trace-1)/2)*180/np.pi\n",
    "        axis = np.array([\n",
    "            mat[2,1]-mat[1,2],\n",
    "            mat[0,2]-mat[2,0],\n",
    "            mat[1,0]-mat[0,1]])\n",
    "        axis = axis/np.linalg.norm(axis) if np.linalg.norm(axis) != 0 else \"[indéfini]\"\n",
    "        sym_type = f\"Rotation pure de {angle:.1f}° autour de l'axe {axis}\"\n",
    "    else:\n",
    "        # Si la matrice au carré est égale à l'identité -> réflexion pure\n",
    "        if np.allclose(np.dot(mat, mat), np.eye(3)):\n",
    "            sym_type = \"Réflexion pure\"\n",
    "        else:\n",
    "            angle = np.arccos((trace+1)/2)*180/np.pi\n",
    "            sym_type = f\"Roto-inversion de {angle:.1f}°\"\n",
    "\n",
    "    # Affichage\n",
    "    print(f\"\\n* Symétrie {idx} : {sym_type}\")\n",
    "    print(\"  Matrice de rotation:\\n\", mat)\n",
    "    print(\"  Vecteur de translation :\", op.translation_vector)"
   ]
  },
  {
   "cell_type": "markdown",
   "id": "7d94e4fe",
   "metadata": {},
   "source": [
    "## Sélection de trois éléments différents:"
   ]
  },
  {
   "cell_type": "code",
   "execution_count": 7,
   "id": "fe0ce9ee",
   "metadata": {},
   "outputs": [
    {
     "name": "stdout",
     "output_type": "stream",
     "text": [
      "* Voici la position des différens atomes dans la structure:\n",
      "   Atome 0 : Cu, position [0. 0. 0.]\n",
      "   Atome 1 : Cu, position [0.66666667 0.33333333 0.33333333]\n",
      "   Atome 2 : Cu, position [0.33333333 0.66666667 0.66666667]\n",
      "   Atome 3 : Rh, position [0.33333333 0.66666667 0.16666667]\n",
      "   Atome 4 : Rh, position [1.  1.  0.5]\n",
      "   Atome 5 : Rh, position [0.66666667 0.33333333 0.83333333]\n",
      "   Atome 6 : O, position [0.66666667 0.33333333 0.22617433]\n",
      "   Atome 7 : O, position [0.       0.       0.107159]\n",
      "   Atome 8 : O, position [0.33333333 0.66666667 0.55950767]\n",
      "   Atome 9 : O, position [0.66666667 0.33333333 0.44049233]\n",
      "   Atome 10 : O, position [0.       0.       0.892841]\n",
      "   Atome 11 : O, position [0.33333333 0.66666667 0.77382567]\n",
      "\n",
      "\n",
      " * Position originale et transformée des différents atomes sélectionnés:\n",
      "   Atome Cu: [0.66666667 0.33333333 0.33333333] -> [ 0.33333333  0.66666667 -0.33333333]\n",
      "   Atome Rh: [1.  1.  0.5] -> [-1.00000000e+00 -1.11022302e-16 -5.00000000e-01]\n",
      "   Atome O: [0.       0.       0.892841] -> [ 0.33333333  0.66666667 -0.22617433]\n"
     ]
    }
   ],
   "source": [
    "# Permet de voir la position des différents atomes dans la structure\n",
    "print(\"* Voici la position des différens atomes dans la structure:\")\n",
    "for i, site in enumerate(conv_struc):\n",
    "    print(f\"   Atome {i} : {site.species_string}, position {site.frac_coords}\")\n",
    "    \n",
    "# Sélection de 3 atomes spécifiques\n",
    "atoms = [1, 4, 10]  # Indices des atomes sélectionés\n",
    "atom_name = [\"Cu\", \"Rh\", \"O\"]\n",
    "\n",
    "# Sélectionner 3 opérations de symétrie différentes\n",
    "sym_op1 = symmops[5]\n",
    "sym_op2 = symmops[10]\n",
    "sym_op3 = symmops[25]\n",
    "\n",
    "# Positions initiales\n",
    "positions = [\n",
    "    conv_struc[atoms[0]].frac_coords,\n",
    "    conv_struc[atoms[1]].frac_coords,\n",
    "    conv_struc[atoms[2]].frac_coords]\n",
    "\n",
    "# Aplication des transformations aux atomes sélectionnés\n",
    "transformed_positions = [\n",
    "    sym_op1.operate(conv_struc[atoms[0]].frac_coords),\n",
    "    sym_op2.operate(conv_struc[atoms[1]].frac_coords),\n",
    "    sym_op3.operate(conv_struc[atoms[2]].frac_coords)]\n",
    "\n",
    "# Afficher les anciennes et nouvelles positions des atomes transformés\n",
    "print(\"\\n\\n * Position originale et transformée des différents atomes sélectionnés:\")\n",
    "for i in range(len(positions)):\n",
    "    print(f\"   Atome {atom_name[i]}: {positions[i]} -> {transformed_positions[i]}\")"
   ]
  },
  {
   "cell_type": "markdown",
   "id": "b4936bc5",
   "metadata": {},
   "source": [
    "## 0. La structure:"
   ]
  },
  {
   "cell_type": "code",
   "execution_count": 12,
   "id": "6a687d1b",
   "metadata": {},
   "outputs": [
    {
     "data": {
      "application/vnd.jupyter.widget-view+json": {
       "model_id": "cbf1c4ac11a54073845bc8c6891e15b4",
       "version_major": 2,
       "version_minor": 0
      },
      "text/plain": [
       "JsmolView(layout=Layout(height='600px'))"
      ]
     },
     "metadata": {},
     "output_type": "display_data"
    }
   ],
   "source": [
    "view = JsmolView(layout=Layout(height=\"600px\"))\n",
    "display(view)\n",
    "view.load_file('data/CuRhO2_fixed.cif', '{1 1 1}', inline=True)\n",
    "# view from right\n",
    "view.script('moveto 0 0 1 0 90 200;')\n",
    "view.script('rotate on')"
   ]
  },
  {
   "cell_type": "markdown",
   "id": "543b1daf",
   "metadata": {},
   "source": [
    "## 1. La roto-inversion de 60° en fonction du Cu:"
   ]
  },
  {
   "cell_type": "code",
   "execution_count": 16,
   "id": "41e93e20",
   "metadata": {},
   "outputs": [
    {
     "data": {
      "application/vnd.jupyter.widget-view+json": {
       "model_id": "8ecfc5b119ac4108b0924a031bdfa192",
       "version_major": 2,
       "version_minor": 0
      },
      "text/plain": [
       "JsmolView(layout=Layout(height='600px'))"
      ]
     },
     "metadata": {},
     "output_type": "display_data"
    }
   ],
   "source": [
    "view1 = JsmolView(layout=Layout(height=\"600px\"))\n",
    "display(view1)\n",
    "view1.load_file('data/CuRhO2_fixed.cif', '{1 1 1}', inline=True)\n",
    "view1.script('draw SYMOP 5 {atomno=6}; select atomno=6; color yellow; label on')\n",
    "view1.script('moveto 0.6 0.6 1 -0.1 210 300;')"
   ]
  },
  {
   "cell_type": "markdown",
   "id": "992b84f7",
   "metadata": {},
   "source": [
    "## 2. La rotation pure de 180.0° autour de l'axe [0. 0. -1.] en fonction du Rh:"
   ]
  },
  {
   "cell_type": "code",
   "execution_count": 18,
   "id": "654a1f03",
   "metadata": {},
   "outputs": [
    {
     "data": {
      "application/vnd.jupyter.widget-view+json": {
       "model_id": "37a4bc809e5d41b4aead9eb662f34486",
       "version_major": 2,
       "version_minor": 0
      },
      "text/plain": [
       "JsmolView(layout=Layout(height='600px'))"
      ]
     },
     "metadata": {},
     "output_type": "display_data"
    }
   ],
   "source": [
    "view2 = JsmolView(layout=Layout(height=\"600px\"))\n",
    "display(view2)\n",
    "view2.load_file('data/CuRhO2_fixed.cif', '{1 1 1}', inline=True)\n",
    "view2.script('draw SYMOP 10 {atomno=2}; select atomno=2; color yellow; label on')\n",
    "view2.script('moveto 0.6 0.6 0.6 0 30 250;')"
   ]
  },
  {
   "cell_type": "markdown",
   "id": "40854b4f",
   "metadata": {},
   "source": [
    "## 3. L'inversion pure avec un vecteur de translation non nul en function de l'O:"
   ]
  },
  {
   "cell_type": "code",
   "execution_count": 19,
   "id": "1946f1c2",
   "metadata": {},
   "outputs": [
    {
     "data": {
      "application/vnd.jupyter.widget-view+json": {
       "model_id": "728dd9178d5b46a0bb6c32f614fddddc",
       "version_major": 2,
       "version_minor": 0
      },
      "text/plain": [
       "JsmolView(layout=Layout(height='600px'))"
      ]
     },
     "metadata": {},
     "output_type": "display_data"
    }
   ],
   "source": [
    "view3 = JsmolView(layout=Layout(height=\"600px\"))\n",
    "display(view3)\n",
    "view3.load_file('data/CuRhO2_fixed.cif', '{1 1 1}', inline=True)\n",
    "view3.script('draw SYMOP 25 {atomno=5}; select atomno=5; color yellow; label on')\n",
    "view3.script('moveto 0.6 0.6 -0.6 0 -45 300;')"
   ]
  },
  {
   "cell_type": "code",
   "execution_count": null,
   "id": "1223685e",
   "metadata": {},
   "outputs": [],
   "source": []
  }
 ],
 "metadata": {
  "kernelspec": {
   "display_name": "Python 3 (ipykernel)",
   "language": "python",
   "name": "python3"
  },
  "language_info": {
   "codemirror_mode": {
    "name": "ipython",
    "version": 3
   },
   "file_extension": ".py",
   "mimetype": "text/x-python",
   "name": "python",
   "nbconvert_exporter": "python",
   "pygments_lexer": "ipython3",
   "version": "3.9.13"
  }
 },
 "nbformat": 4,
 "nbformat_minor": 5
}
