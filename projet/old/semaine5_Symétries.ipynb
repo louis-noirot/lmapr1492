{
 "cells": [
  {
   "cell_type": "markdown",
   "id": "ce5102c2",
   "metadata": {},
   "source": [
    "# Symétries\n",
    "### Louis Noirot, mars 2025\n",
    "###### LMAPR1492"
   ]
  },
  {
   "cell_type": "code",
   "execution_count": 2,
   "id": "b301f49b",
   "metadata": {},
   "outputs": [
    {
     "name": "stderr",
     "output_type": "stream",
     "text": [
      "<>:9: SyntaxWarning: invalid escape sequence '\\G'\n",
      "<>:9: SyntaxWarning: invalid escape sequence '\\G'\n",
      "/var/folders/m0/79fdh5rs75s90y90257qzxg40000gn/T/ipykernel_10940/265495156.py:9: SyntaxWarning: invalid escape sequence '\\G'\n",
      "  \"\\Gamma\": \"Î“\",\n"
     ]
    }
   ],
   "source": [
    "import numpy as np\n",
    "import itertools\n",
    "import plotly.graph_objects as go\n",
    "from plotly.subplots import make_subplots\n",
    "from pymatgen.symmetry.bandstructure import HighSymmKpath\n",
    "\n",
    "def latex_fix(label):\n",
    "    replace = {\n",
    "        \"\\Gamma\": \"Î“\",\n",
    "    }\n",
    "    if label in replace:\n",
    "        label = replace[label]\n",
    "    return label\n",
    "\n",
    "# Plotting of the Brillouin zone\n",
    "def go_points(points, size=4, color=\"black\", labels=None):\n",
    "    mode = \"markers\" if labels is None else \"markers+text\"\n",
    "\n",
    "    if labels is not None:\n",
    "        for il in range(len(labels)):\n",
    "            labels[il] = latex_fix(labels[il])\n",
    "\n",
    "    import plotly.graph_objects as go\n",
    "    return go.Scatter3d(\n",
    "        x=[v[0] for v in points],\n",
    "        y=[v[1] for v in points],\n",
    "        z=[v[2] for v in points],\n",
    "        marker=dict(size=size, color=color),\n",
    "        mode=mode,\n",
    "        text=labels,\n",
    "        textfont_color=color,\n",
    "        showlegend=False\n",
    "    )\n",
    "\n",
    "\n",
    "def go_line(v1, v2, color=\"black\", width=2, mode=\"lines\", text=\"\"):\n",
    "    import plotly.graph_objects as go\n",
    "    return go.Scatter3d(\n",
    "        mode=mode,\n",
    "        x=[v1[0], v2[0]],\n",
    "        y=[v1[1], v2[1]],\n",
    "        z=[v1[2], v2[2]],\n",
    "        line=dict(color=color),\n",
    "        text=text,\n",
    "        showlegend=False\n",
    "    )\n",
    "\n",
    "def plot_brillouin_zone(struc, fig=None):\n",
    "    bz_lattice=struc.lattice.reciprocal_lattice\n",
    "    if fig is None:\n",
    "        fig = go.Figure()\n",
    "#   Plot the three lattice vectors        \n",
    "    vertex1 = bz_lattice.get_cartesian_coords([0.0, 0.0, 0.0])\n",
    "    vertex2 = bz_lattice.get_cartesian_coords([1.0, 0.0, 0.0])\n",
    "    fig.add_trace(go_line(vertex1, vertex2, color=\"green\", mode=\"lines+text\", text=[\"\",\"a\"]))\n",
    "    vertex2 = bz_lattice.get_cartesian_coords([0.0, 1.0, 0.0])\n",
    "    fig.add_trace(go_line(vertex1, vertex2, color=\"green\", mode=\"lines+text\", text=[\"\",\"b\"]))\n",
    "    vertex2 = bz_lattice.get_cartesian_coords([0.0, 0.0, 1.0])\n",
    "    fig.add_trace(go_line(vertex1, vertex2, color=\"green\", mode=\"lines+text\", text=[\"\",\"c\"]))\n",
    "\n",
    "#   Plot the Wigner-Seitz cell\n",
    "    bz = bz_lattice.get_wigner_seitz_cell()\n",
    "    for iface in range(len(bz)):  # pylint: disable=C0200\n",
    "        for line in itertools.combinations(bz[iface], 2):\n",
    "            for jface in range(len(bz)):\n",
    "                if (iface < jface\n",
    "                    and any(np.all(line[0] == x) for x in bz[jface])\n",
    "                    and any(np.all(line[1] == x) for x in bz[jface])):\n",
    "                    fig.add_trace(go_line(line[0], line[1]))\n",
    "\n",
    "#   Plot the path in the Brillouin zone\n",
    "    kpath=HighSymmKpath(struc)\n",
    "    \n",
    "    for line in [[kpath.kpath[\"kpoints\"][k] for k in p] for p in kpath.kpath[\"path\"]]:\n",
    "        for k in range(1, len(line)):\n",
    "            vertex1 = line[k - 1]\n",
    "            vertex2 = line[k]\n",
    "            vertex1 = bz_lattice.get_cartesian_coords(vertex1)\n",
    "            vertex2 = bz_lattice.get_cartesian_coords(vertex2)\n",
    "\n",
    "            fig.add_trace(go_line(vertex1, vertex2, color=\"red\"))\n",
    "\n",
    "    labels=kpath.kpath[\"kpoints\"]\n",
    "    vecs = []\n",
    "    for point in labels.values():\n",
    "        vecs.append(bz_lattice.get_cartesian_coords(point))\n",
    "\n",
    "    fig.add_trace(go_points(vecs, color=\"red\", labels=list(labels.keys())))\n",
    "\n",
    "    fig.update_layout(\n",
    "        scene = dict(\n",
    "            xaxis = dict(visible=False, range=[-1.15,1.15],),\n",
    "            yaxis = dict(visible=False, range=[-1.15,1.15],),\n",
    "            zaxis = dict(visible=False, range=[-1.15,1.15],),\n",
    "        )\n",
    "    )\n",
    "    return fig\n",
    "\n",
    "# Dealing with the bandstructures\n",
    "def get_n_branch(bs):\n",
    "    return len(bs.branches)\n",
    "\n",
    "def get_n_band(bs):\n",
    "    if not \"phonon\" in str(type(bs)):\n",
    "        return bs.bands[list(bs.bands.keys())[0]].shape[0]\n",
    "    else:\n",
    "        return bs.bands.shape[0]\n",
    "    \n",
    "def get_branch_wavevectors(bs, i_branch):\n",
    "    branch = bs.branches[i_branch]\n",
    "    if not \"phonon\" in str(type(bs)):\n",
    "        start_wavevector = bs.kpoints[branch['start_index']].frac_coords\n",
    "        end_wavevector = bs.kpoints[branch['end_index']].frac_coords\n",
    "    else:\n",
    "        start_wavevector = bs.qpoints[branch['start_index']].frac_coords\n",
    "        end_wavevector = bs.qpoints[branch['end_index']].frac_coords\n",
    "    return start_wavevector, end_wavevector\n",
    "\n",
    "def get_branch_labels(bs, i_branch):\n",
    "    branch = bs.branches[i_branch]\n",
    "    if not \"phonon\" in str(type(bs)):\n",
    "        start_label = bs.kpoints[branch['start_index']].label\n",
    "        end_label = bs.kpoints[branch['end_index']].label\n",
    "    else:\n",
    "        start_label = bs.qpoints[branch['start_index']].label\n",
    "        end_label = bs.qpoints[branch['end_index']].label        \n",
    "    start_label = latex_fix(start_label)\n",
    "    end_label = latex_fix(end_label)\n",
    "    return [start_label, end_label]\n",
    "\n",
    "def get_branch_energies(bs, i_branch, i_band):\n",
    "    branch = bs.branches[i_branch]\n",
    "    i_start = branch['start_index']\n",
    "    i_end = branch['end_index']\n",
    "    if not \"phonon\" in str(type(bs)):\n",
    "        energies = list(bs.bands.values())[0][i_band, i_start:i_end+1]\n",
    "    else:\n",
    "        energies = bs.bands[i_band, i_start:i_end+1]\n",
    "    return energies\n",
    "\n",
    "def get_branch_distances(bs, i_branch):\n",
    "    branch = bs.branches[i_branch]\n",
    "    i_start = branch['start_index']\n",
    "    i_end = branch['end_index']\n",
    "    distances= bs.distance[i_start:i_end+1]-bs.distance[i_start]*np.ones(i_end-i_start+1)    \n",
    "    return distances\n",
    "    \n",
    "def get_plot_bs(bs, branch_list = \"all\", plot_range = [None,None]):\n",
    "    if branch_list == \"all\":\n",
    "        branch_list = range(get_n_branch(bs))\n",
    "\n",
    "    if not \"phonon\" in str(type(bs)):\n",
    "        yaxis_title = \"E - E<sub>f</sub> (eV)\"\n",
    "        yshift = bs.get_vbm()['energy']\n",
    "    else:\n",
    "        yaxis_title = \"Frequencies (THz)\"\n",
    "        yshift = 0.0\n",
    "\n",
    "    if plot_range == [None,None]:\n",
    "        band_list = range(get_n_band(bs))\n",
    "    else:\n",
    "        band_list = []\n",
    "        for i_band in range(get_n_band(bs)):\n",
    "            yvals = []\n",
    "            for i_branch in branch_list:\n",
    "                yvals.extend(get_branch_energies(bs, i_branch, i_band) - yshift)\n",
    "            if plot_range[0] == None:\n",
    "                if np.min(np.array(yvals) - plot_range[1])<=0:\n",
    "                    band_list.append(i_band)\n",
    "            elif plot_range[1] == None:\n",
    "                if np.max(np.array(yvals) - plot_range[0])>=0:\n",
    "                    band_list.append(i_band)\n",
    "            else:\n",
    "                if np.max(np.array(yvals) - plot_range[0])>=0 and np.min(np.array(yvals) - plot_range[1])<=0:\n",
    "                    band_list.append(i_band)\n",
    "        \n",
    "    fig = go.Figure()\n",
    "\n",
    "    labels = []\n",
    "    for i_branch in branch_list:\n",
    "        new_labels = get_branch_labels(bs, i_branch)\n",
    "        new_xvals = get_branch_distances(bs, i_branch)\n",
    "        if len(labels) == 0:\n",
    "            labels.append(new_labels[0])\n",
    "            xvals = new_xvals.tolist()\n",
    "            tickvals = [new_xvals[0], new_xvals[-1]]\n",
    "        elif labels[-1] != new_labels[0]:\n",
    "            labels[-1] += \"|\" + new_labels[0]\n",
    "            xvals.extend((new_xvals + tickvals[-1]).tolist())\n",
    "            tickvals.append(new_xvals[-1] + tickvals[-1])\n",
    "        else:\n",
    "            xvals.extend((new_xvals + tickvals[-1]).tolist())\n",
    "            tickvals.append(new_xvals[-1] + tickvals[-1])\n",
    "        labels.append(new_labels[1])\n",
    "    \n",
    "    for tickval in tickvals[1:-1]:\n",
    "        fig.add_vline(x=tickval, line_width=1, line_color=\"black\")\n",
    "\n",
    "    yvals_lowest = []\n",
    "    for i_branch in branch_list:\n",
    "        yvals_lowest.extend(get_branch_energies(bs, i_branch, band_list[0]) - yshift)\n",
    "    yvals_highest = []\n",
    "    for i_branch in branch_list:\n",
    "        yvals_highest.extend(get_branch_energies(bs, i_branch, band_list[-1]) - yshift)\n",
    "\n",
    "    if plot_range == [None,None]:\n",
    "        yaxis_range = [\n",
    "            np.min(yvals_lowest)-0.02*abs(np.min(yvals_lowest)),\n",
    "            np.max(yvals_highest)+0.02*abs(np.max(yvals_highest))]\n",
    "    elif plot_range[0] == None:\n",
    "        yaxis_range = [np.min(yvals_lowest)-0.02*abs(np.min(yvals_lowest)), plot_range[1]]\n",
    "    elif plot_range[1] == None:\n",
    "        yaxis_range = [plot_range[0], np.max(yvals_highest)+0.02*abs(np.max(yvals_highest))]\n",
    "    else:\n",
    "        yaxis_range = [plot_range[0], plot_range[1]]\n",
    "        \n",
    "    for i_band in band_list:\n",
    "        yvals = []\n",
    "        for i_branch in branch_list:\n",
    "            yvals.extend(get_branch_energies(bs, i_branch, i_band) - yshift)\n",
    "            \n",
    "        scatter = go.Scatter(x=xvals, y=yvals, mode=\"lines\", name=\"band \"+str(i_band+1))\n",
    "        fig.add_trace(scatter)\n",
    "    \n",
    "    fig.update_layout(\n",
    "        xaxis =  {'mirror': True, 'showgrid': False,\n",
    "                  'ticks': 'inside',\n",
    "                  'tickvals': tickvals,\n",
    "                  'ticktext': labels,\n",
    "                  'ticklen':0},\n",
    "        yaxis =  {'mirror': True, 'showgrid': False, 'ticks': 'inside', 'ticklen':10},\n",
    "        yaxis_range = yaxis_range,\n",
    "        xaxis_title = \"Wave Vector\",\n",
    "        yaxis_title = yaxis_title\n",
    "    )\n",
    "    \n",
    "    return fig\n",
    "\n",
    "def get_plot_dos(dos, plot_range = [None,None]):\n",
    "    fig = go.Figure()\n",
    "    if not \"phonon\" in str(type(dos)):\n",
    "        xvals = dos.energies - dos.efermi\n",
    "        xaxis_title = \"E - E<sub>f</sub> (eV)\"\n",
    "        yvals = list(dos.densities.values())[0]\n",
    "    else:\n",
    "        xvals = dos.frequencies\n",
    "        xaxis_title = \"Frequencies (THz)\"\n",
    "        yvals = dos.densities\n",
    "\n",
    "    scatter = go.Scatter(x=xvals, y=yvals, mode=\"lines\")\n",
    "    fig.add_trace(scatter)\n",
    "    \n",
    "    if plot_range == [None, None]:\n",
    "        xaxis_range = [np.min(xvals)-0.02*abs(np.min(xvals)), np.max(xvals)+0.02*abs(np.max(xvals))]\n",
    "        yaxis_range = [0, 1.02*np.max(yvals)]\n",
    "    elif plot_range[0] == None:\n",
    "        xaxis_range = [np.min(xvals)-0.02*abs(np.min(xvals)), plot_range[1]]\n",
    "        i1 = np.argmin(abs(xvals-plot_range[1]))\n",
    "        yaxis_range = [0, 1.02*np.max(yvals[:i1])]\n",
    "    elif plot_range[1] == None:\n",
    "        xaxis_range = [plot_range[0], np.max(xvals)+0.02*abs(np.max(xvals))]\n",
    "        i0 = np.argmin(abs(xvals-plot_range[0]))\n",
    "        yaxis_range = [0, 1.02*np.max(yvals[i0:])]\n",
    "    else: \n",
    "        xaxis_range = [plot_range[0], plot_range[1]]\n",
    "        i0 = np.argmin(abs(xvals-plot_range[0]))\n",
    "        i1 = np.argmin(abs(xvals-plot_range[1]))\n",
    "        yaxis_range = [0, 1.02*np.max(yvals[i0:i1])]\n",
    "    \n",
    "    fig.update_layout(\n",
    "        xaxis =  {'mirror': True, 'showgrid': False, 'ticks': 'inside', 'ticklen':10},\n",
    "        yaxis =  {'mirror': True, 'showgrid': False, 'ticks': 'inside', 'ticklen':10},\n",
    "        xaxis_range = xaxis_range,\n",
    "        yaxis_range = yaxis_range,\n",
    "        xaxis_title = xaxis_title,\n",
    "        yaxis_title = \"DOS\",\n",
    "    )\n",
    "    return fig\n",
    "\n",
    "\n",
    "def get_plot_bs_and_dos(bs, dos, branch_list = \"all\", plot_range = [None,None]):\n",
    "    # Bandstructure\n",
    "    if branch_list == \"all\":\n",
    "        branch_list = range(get_n_branch(bs))\n",
    "\n",
    "    if not \"phonon\" in str(type(bs)):\n",
    "        yaxis_title = \"E - E<sub>f</sub> (eV)\"\n",
    "        yshift = bs.get_vbm()['energy']\n",
    "    else:\n",
    "        yaxis_title = \"Frequencies (THz)\"\n",
    "        yshift = 0.0\n",
    "\n",
    "    if plot_range == [None,None]:\n",
    "        band_list = range(get_n_band(bs))\n",
    "    else:\n",
    "        band_list = []\n",
    "        for i_band in range(get_n_band(bs)):\n",
    "            yvals = []\n",
    "            for i_branch in branch_list:\n",
    "                yvals.extend(get_branch_energies(bs, i_branch, i_band) - yshift)\n",
    "            if plot_range[0] == None:\n",
    "                if np.min(np.array(yvals) - plot_range[1])<=0:\n",
    "                    band_list.append(i_band)\n",
    "            elif plot_range[1] == None:\n",
    "                if np.max(np.array(yvals) - plot_range[0])>=0:\n",
    "                    band_list.append(i_band)\n",
    "            else:\n",
    "                if np.max(np.array(yvals) - plot_range[0])>=0 and np.min(np.array(yvals) - plot_range[1])<=0:\n",
    "                    band_list.append(i_band)\n",
    "        \n",
    "    fig = make_subplots(rows=1, cols=2, shared_yaxes=True, horizontal_spacing=0.01, column_widths=[4,1])\n",
    "\n",
    "    labels = []\n",
    "    for i_branch in branch_list:\n",
    "        new_labels = get_branch_labels(bs, i_branch)\n",
    "        new_xvals = get_branch_distances(bs, i_branch)\n",
    "        if len(labels) == 0:\n",
    "            labels.append(new_labels[0])\n",
    "            xvals = new_xvals.tolist()\n",
    "            tickvals = [new_xvals[0], new_xvals[-1]]\n",
    "        elif labels[-1] != new_labels[0]:\n",
    "            labels[-1] += \"|\" + new_labels[0]\n",
    "            xvals.extend((new_xvals + tickvals[-1]).tolist())\n",
    "            tickvals.append(new_xvals[-1] + tickvals[-1])\n",
    "        else:\n",
    "            xvals.extend((new_xvals + tickvals[-1]).tolist())\n",
    "            tickvals.append(new_xvals[-1] + tickvals[-1])\n",
    "        labels.append(new_labels[1])\n",
    "    \n",
    "    yvals_lowest = []\n",
    "    for i_branch in branch_list:\n",
    "        yvals_lowest.extend(get_branch_energies(bs, i_branch, band_list[0]) - yshift)\n",
    "    yvals_highest = []\n",
    "    for i_branch in branch_list:\n",
    "        yvals_highest.extend(get_branch_energies(bs, i_branch, band_list[-1]) - yshift)\n",
    "\n",
    "    if plot_range == [None,None]:\n",
    "        yaxis_range = [\n",
    "            np.min(yvals_lowest)-0.02*abs(np.min(yvals_lowest)),\n",
    "            np.max(yvals_highest)+0.02*abs(np.max(yvals_highest))]\n",
    "    elif plot_range[0] == None:\n",
    "        yaxis_range = [np.min(yvals_lowest)-0.02*abs(np.min(yvals_lowest)), plot_range[1]]\n",
    "    elif plot_range[1] == None:\n",
    "        yaxis_range = [plot_range[0], np.max(yvals_highest)+0.02*abs(np.max(yvals_highest))]\n",
    "    else:\n",
    "        yaxis_range = [plot_range[0], plot_range[1]]\n",
    "        \n",
    "    for i_band in band_list:\n",
    "        yvals = []\n",
    "        for i_branch in branch_list:\n",
    "            yvals.extend(get_branch_energies(bs, i_branch, i_band) - yshift)\n",
    "        scatter = go.Scatter(x=xvals, y=yvals, mode=\"lines\", name=\"band \"+str(i_band+1))\n",
    "        fig.add_trace(scatter, row=1, col=1)\n",
    "\n",
    "    for tickval in tickvals[1:-1]:\n",
    "        fig.add_vline(x=tickval, line_width=1, line_color=\"black\", row=1, col=1)\n",
    "    \n",
    "    # DOS\n",
    "    if not \"phonon\" in str(type(dos)):\n",
    "        xvals2 = list(dos.densities.values())[0]\n",
    "        yvals2 = dos.energies - dos.efermi\n",
    "    else:\n",
    "        xvals2 = dos.densities\n",
    "        yvals2 = dos.frequencies\n",
    "\n",
    "    scatter = go.Scatter(x=xvals2, y=yvals2, mode=\"lines\", showlegend=False)\n",
    "    fig.add_trace(scatter, row=1, col=2)\n",
    "\n",
    "    i0 = np.argmin(abs(yvals2-yaxis_range[0]))\n",
    "    i1 = np.argmin(abs(yvals2-yaxis_range[1]))\n",
    "    xaxis2_range = [0, 1.02*np.max(xvals2[i0:i1])]\n",
    "\n",
    "    fig.update_layout(\n",
    "        xaxis =  {'mirror': True, 'showgrid': False,\n",
    "                  'ticks': 'inside',\n",
    "                  'tickvals': tickvals,\n",
    "                  'ticktext': labels,\n",
    "                  'ticklen':0},\n",
    "        yaxis =  {'mirror': True, 'showgrid': False, 'ticks': 'inside', 'ticklen':10},\n",
    "        yaxis_range = yaxis_range,\n",
    "        xaxis_title = \"Wave Vector\",\n",
    "        yaxis_title = yaxis_title,        \n",
    "        xaxis2 =  {'mirror': True, 'showgrid': False, 'ticks': 'inside', 'ticklen':10},\n",
    "        yaxis2 =  {'mirror': True, 'showgrid': False, 'ticks': 'inside', 'ticklen':10},\n",
    "        xaxis2_range = xaxis2_range,\n",
    "        xaxis2_title = \"DOS\",\n",
    "    )\n",
    "    \n",
    "    return fig"
   ]
  },
  {
   "cell_type": "code",
   "execution_count": 3,
   "id": "3abcaa7a",
   "metadata": {},
   "outputs": [],
   "source": [
    "import numpy as np\n",
    "from mp_api.client import MPRester\n",
    "from pymatgen.core.operations import SymmOp\n",
    "from pymatgen.symmetry.analyzer import SpacegroupAnalyzer\n",
    "from pymatgen.electronic_structure.plotter import BSPlotter\n",
    "from pymatgen.phonon.plotter import PhononBSPlotter\n",
    "from jupyter_jsmol.pymatgen import quick_view\n",
    "#from lmapr1492 import plot_brillouin_zone, get_plot_bs, get_plot_dos, get_plot_bs_and_dos, get_branch_wavevectors\n",
    "from plotly.subplots import make_subplots\n",
    "import plotly.graph_objects as go"
   ]
  },
  {
   "cell_type": "code",
   "execution_count": 4,
   "id": "ebaf61bd",
   "metadata": {},
   "outputs": [],
   "source": [
    "mp_key = \"g2nCFD5rMkPRt9qdpOGhbfHJf2mgbv5x\"\n",
    "mp_id = \"mp-14116\""
   ]
  },
  {
   "cell_type": "code",
   "execution_count": 5,
   "id": "166478ef",
   "metadata": {},
   "outputs": [
    {
     "data": {
      "application/vnd.jupyter.widget-view+json": {
       "model_id": "2d57930de84545f6896b8cc99f0ce89e",
       "version_major": 2,
       "version_minor": 0
      },
      "text/plain": [
       "Retrieving MaterialsDoc documents:   0%|          | 0/1 [00:00<?, ?it/s]"
      ]
     },
     "metadata": {},
     "output_type": "display_data"
    },
    {
     "data": {
      "application/vnd.jupyter.widget-view+json": {
       "model_id": "6bf1ab416a0240e99ddf5c2c6bccfe39",
       "version_major": 2,
       "version_minor": 0
      },
      "text/plain": [
       "Retrieving ElectronicStructureDoc documents:   0%|          | 0/1 [00:00<?, ?it/s]"
      ]
     },
     "metadata": {},
     "output_type": "display_data"
    },
    {
     "data": {
      "application/vnd.jupyter.widget-view+json": {
       "model_id": "34136e55836d407f8ad23b22ad758dfb",
       "version_major": 2,
       "version_minor": 0
      },
      "text/plain": [
       "Retrieving ElectronicStructureDoc documents:   0%|          | 0/1 [00:00<?, ?it/s]"
      ]
     },
     "metadata": {},
     "output_type": "display_data"
    },
    {
     "data": {
      "application/vnd.jupyter.widget-view+json": {
       "model_id": "509c03658da348779042da6bca2d6176",
       "version_major": 2,
       "version_minor": 0
      },
      "text/plain": [
       "Retrieving PhononBSDOSDoc documents:   0%|          | 0/1 [00:00<?, ?it/s]"
      ]
     },
     "metadata": {},
     "output_type": "display_data"
    },
    {
     "data": {
      "application/vnd.jupyter.widget-view+json": {
       "model_id": "4a509ec46a474dea91ab692124496a50",
       "version_major": 2,
       "version_minor": 0
      },
      "text/plain": [
       "Retrieving PhononBSDOSDoc documents:   0%|          | 0/1 [00:00<?, ?it/s]"
      ]
     },
     "metadata": {},
     "output_type": "display_data"
    },
    {
     "data": {
      "application/vnd.jupyter.widget-view+json": {
       "model_id": "3a59a998eb7847bea82186293c50cd9e",
       "version_major": 2,
       "version_minor": 0
      },
      "text/plain": [
       "Retrieving MaterialsDoc documents:   0%|          | 0/1 [00:00<?, ?it/s]"
      ]
     },
     "metadata": {},
     "output_type": "display_data"
    }
   ],
   "source": [
    "with MPRester(mp_key) as m:\n",
    "    prim_struc = m.get_structure_by_material_id(mp_id)\n",
    "    el_bs = m.get_bandstructure_by_material_id(mp_id)\n",
    "    el_dos = m.get_dos_by_material_id(mp_id)\n",
    "    ph_bs = m.get_phonon_bandstructure_by_material_id(mp_id)\n",
    "    ph_dos = m.get_phonon_dos_by_material_id(mp_id)\n",
    "    structure = m.get_structure_by_material_id(mp_id)\n",
    "conv_struc = SpacegroupAnalyzer(prim_struc).get_conventional_standard_structure()\n",
    "symmops = SpacegroupAnalyzer(conv_struc).get_space_group_operations()"
   ]
  },
  {
   "cell_type": "code",
   "execution_count": 6,
   "id": "044dc915",
   "metadata": {},
   "outputs": [
    {
     "data": {
      "application/vnd.jupyter.widget-view+json": {
       "model_id": "1fe9da0811084b5aaa1e52031025e736",
       "version_major": 2,
       "version_minor": 0
      },
      "text/plain": [
       "JsmolView(layout=Layout(align_self='stretch', height='400px'))"
      ]
     },
     "metadata": {},
     "output_type": "display_data"
    }
   ],
   "source": [
    "# Visualisation\n",
    "view = quick_view(structure)\n",
    "display(view)"
   ]
  },
  {
   "cell_type": "code",
   "execution_count": 7,
   "id": "6b1055df",
   "metadata": {},
   "outputs": [
    {
     "data": {
      "application/vnd.jupyter.widget-view+json": {
       "model_id": "73405af70cb548b6820f4e411fa056e8",
       "version_major": 2,
       "version_minor": 0
      },
      "text/plain": [
       "JsmolView(layout=Layout(align_self='stretch', height='400px'))"
      ]
     },
     "metadata": {},
     "output_type": "display_data"
    }
   ],
   "source": [
    "view = quick_view(prim_struc, \"packed\", conventional = True)\n",
    "display(view)"
   ]
  },
  {
   "cell_type": "code",
   "execution_count": 8,
   "id": "b43243cc",
   "metadata": {},
   "outputs": [
    {
     "name": "stdout",
     "output_type": "stream",
     "text": [
      "Position originale et transformée des atomes:\n",
      "Cu: [0.0, 0.0, 0.0] -> [0. 0. 0.]\n",
      "Rh: [0.5, 0.5, 0.5] -> [-0.5 -0.5 -0.5]\n",
      "O: [0.25, 0.25, 0.75] -> [-0.75 -0.25 -0.25]\n"
     ]
    }
   ],
   "source": [
    "# Symétries de la molécule\n",
    "sym = SpacegroupAnalyzer(structure).get_symmetry_operations()\n",
    "\n",
    "# Symétries choisies pour les atomes\n",
    "# Plan miroir (z,y,x)\n",
    "S1 = sym[7]\n",
    "# Axe 4-barre | centre d'inversion en (0,0,0)  (-x-y-z,x,y)\n",
    "S2 = sym[3]\n",
    "# Axe de rotation C2 (y,x,-x-y-z)\n",
    "S3 = sym[6]\n",
    "\n",
    "# Atomes choisis (positions fractionnaires dans CuRhO2)\n",
    "Cu = [0.0, 0.0, 0.0]\n",
    "Rh = [0.5, 0.5, 0.5]\n",
    "O = [0.25, 0.25, 0.75]\n",
    "\n",
    "# Application des symétries\n",
    "Cu_sym = S1.operate(Cu)\n",
    "Rh_sym = S2.operate(Rh)\n",
    "O_sym = S3.operate(O)\n",
    "\n",
    "# Application des oppérations de symétrie\n",
    "transformed_positions = [S1.operate(Cu),\n",
    "                         S2.operate(Rh),\n",
    "                         S3.operate(O)]\n",
    "\n",
    "# Affichage des résultats\n",
    "print(\"Position originale et transformée des atomes:\")\n",
    "print(f\"Cu: {Cu} -> {Cu_sym}\")\n",
    "print(f\"Rh: {Rh} -> {Rh_sym}\")\n",
    "print(f\"O: {O} -> {O_sym}\")"
   ]
  },
  {
   "cell_type": "markdown",
   "id": "e80ba8d8",
   "metadata": {},
   "source": [
    "### Première symétrie sur l'atome de Cu"
   ]
  },
  {
   "cell_type": "code",
   "execution_count": 10,
   "id": "23434a65",
   "metadata": {},
   "outputs": [
    {
     "name": "stdout",
     "output_type": "stream",
     "text": [
      "Opération de symétrie 1: \n",
      "\n",
      "L'atome de départ est Cu et a comme coordonnées: [0.0, 0.0, 0.0]\n",
      "\n",
      "On lui applique une symétrie de plan miroir (z,y,x) :\n",
      "\n",
      "[[ 0.  0. -1.]\n",
      " [-1.  0.  0.]\n",
      " [ 0. -1.  0.]] * [0.0, 0.0, 0.0] + [0. 0. 0.]\n",
      "L'atome d'arrivée a comme coordonnées : [0. 0. 0.]\n",
      "\n"
     ]
    },
    {
     "data": {
      "application/vnd.jupyter.widget-view+json": {
       "model_id": "7ac4c00cece54558a40145e4aff30449",
       "version_major": 2,
       "version_minor": 0
      },
      "text/plain": [
       "JsmolView(layout=Layout(align_self='stretch', height='400px'))"
      ]
     },
     "metadata": {},
     "output_type": "display_data"
    }
   ],
   "source": [
    "print(\"Opération de symétrie 1: \\n\")\n",
    "print(\"L'atome de départ est Cu et a comme coordonnées: {}\\n\".format(Cu))\n",
    "print(\"On lui applique une symétrie de plan miroir (z,y,x) :\\n\")\n",
    "print(S1.rotation_matrix, \"*\", Cu, '+', S1.translation_vector)\n",
    "print(\"L'atome d'arrivée a comme coordonnées : {}\\n\".format(Cu_sym))\n",
    "\n",
    "# Visualisation avec Jupyter-JSmol\n",
    "v1 = quick_view(structure)\n",
    "display(v1)\n",
    "v1.script(\"draw symop 8 {atomno=1}\")"
   ]
  },
  {
   "cell_type": "markdown",
   "id": "5d17ace9",
   "metadata": {},
   "source": [
    "### Deuxième symétrie sur l'atome de Rh"
   ]
  },
  {
   "cell_type": "code",
   "execution_count": 12,
   "id": "7661deeb",
   "metadata": {},
   "outputs": [
    {
     "name": "stdout",
     "output_type": "stream",
     "text": [
      "Opération de symétrie 2: \n",
      "\n",
      "L'atome de départ est Rh et a comme coordonnées: [0.5, 0.5, 0.5]\n",
      "\n",
      "On lui applique une roto-inversion (-x-y-z,x,y) :\n",
      "[[-1.  0.  0.]\n",
      " [ 0. -1.  0.]\n",
      " [ 0.  0. -1.]] * [0.5, 0.5, 0.5] + [0. 0. 0.]\n",
      "L'atome d'arrivée a comme coordonnées : [-0.5 -0.5 -0.5]\n",
      "\n"
     ]
    },
    {
     "data": {
      "application/vnd.jupyter.widget-view+json": {
       "model_id": "0f69d8fb33c1487b8774706777b6877b",
       "version_major": 2,
       "version_minor": 0
      },
      "text/plain": [
       "JsmolView(layout=Layout(align_self='stretch', height='400px'))"
      ]
     },
     "metadata": {},
     "output_type": "display_data"
    }
   ],
   "source": [
    "print(\"Opération de symétrie 2: \\n\")\n",
    "print(\"L'atome de départ est Rh et a comme coordonnées: {}\\n\".format(Rh))\n",
    "print(\"On lui applique une roto-inversion (-x-y-z,x,y) :\")\n",
    "print(S2.rotation_matrix, \"*\", Rh, '+', S2.translation_vector)\n",
    "print(\"L'atome d'arrivée a comme coordonnées : {}\\n\".format(Rh_sym))\n",
    "\n",
    "# Visualisation avec Jupyter-JSmol\n",
    "v2 = quick_view(structure)\n",
    "display(v2)\n",
    "v2.script(\"draw symop 4 {atomno=7}\")"
   ]
  },
  {
   "cell_type": "markdown",
   "id": "a05b7a77",
   "metadata": {},
   "source": [
    "### Troisième symétrie sur l'atome de Ru"
   ]
  },
  {
   "cell_type": "code",
   "execution_count": 14,
   "id": "5979f378",
   "metadata": {
    "scrolled": true
   },
   "outputs": [
    {
     "name": "stdout",
     "output_type": "stream",
     "text": [
      "Opération de symétrie 3: \n",
      "\n",
      "L'atome de départ est le O et a comme coordonnées: [0.25, 0.25, 0.75]\n",
      "\n",
      "On lui applique une symétrie d'axe 2 (y,x,-x-y-z) : \n",
      "[[ 0.  0. -1.]\n",
      " [-1.  0.  0.]\n",
      " [ 0. -1.  0.]] * [0.25, 0.25, 0.75] + [0. 0. 0.]\n",
      "L'atome d'arrivé a comme coordonnées : [-0.75 -0.25 -0.25]\n",
      "\n"
     ]
    },
    {
     "data": {
      "application/vnd.jupyter.widget-view+json": {
       "model_id": "e58d92c74a53424380b66fd468f9171b",
       "version_major": 2,
       "version_minor": 0
      },
      "text/plain": [
       "JsmolView(layout=Layout(align_self='stretch', height='400px'))"
      ]
     },
     "metadata": {},
     "output_type": "display_data"
    }
   ],
   "source": [
    "print(\"Opération de symétrie 3: \\n\")\n",
    "print(\"L'atome de départ est le O et a comme coordonnées: {}\\n\".format(O))\n",
    "print(\"On lui applique une symétrie d'axe 2 (y,x,-x-y-z) : \")\n",
    "print(S3.rotation_matrix, \"*\", O, '+', S3.translation_vector)\n",
    "print(\"L'atome d'arrivé a comme coordonnées : {}\\n\".format(O_sym))\n",
    "v3 = quick_view(structure)\n",
    "display(v3)\n",
    "v3.script(\"draw symop 7 {atomno=3}\")"
   ]
  }
 ],
 "metadata": {
  "kernelspec": {
   "display_name": "base",
   "language": "python",
   "name": "python3"
  },
  "language_info": {
   "codemirror_mode": {
    "name": "ipython",
    "version": 3
   },
   "file_extension": ".py",
   "mimetype": "text/x-python",
   "name": "python",
   "nbconvert_exporter": "python",
   "pygments_lexer": "ipython3",
   "version": "3.12.7"
  }
 },
 "nbformat": 4,
 "nbformat_minor": 5
}
